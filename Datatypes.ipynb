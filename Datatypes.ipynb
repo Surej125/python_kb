{
 "cells": [
  {
   "cell_type": "markdown",
   "metadata": {},
   "source": [
    "## DataTypes\n",
    "#### 1. Definition:\n",
    "\n",
    "- Data types are a classification of data which tell the compiler or interpreter how the programmer intends to use the data.\n",
    "- They determine the type of operations that can be performed on the data, the values that the data can take, and the amount of memory needed to store the data.\n",
    "\n",
    "#### 2. Importance of Data Types in Programming\n",
    "Explanation:\n",
    "\n",
    "- Data types ensure that data is stored in an efficient way.\n",
    "- They help in performing correct operations on data.\n",
    "- Proper use of data types can prevent errors and bugs in the program."
   ]
  },
  {
   "cell_type": "code",
   "execution_count": 1,
   "metadata": {},
   "outputs": [
    {
     "data": {
      "text/plain": [
       "int"
      ]
     },
     "execution_count": 1,
     "metadata": {},
     "output_type": "execute_result"
    }
   ],
   "source": [
    "## Integer Example\n",
    "age=35\n",
    "type(age)"
   ]
  },
  {
   "cell_type": "code",
   "execution_count": 2,
   "metadata": {},
   "outputs": [
    {
     "name": "stdout",
     "output_type": "stream",
     "text": [
      "5.11\n",
      "<class 'float'>\n"
     ]
    }
   ],
   "source": [
    "##floating point datatype\n",
    "height=5.11\n",
    "print(height)\n",
    "print(type(height))\n"
   ]
  },
  {
   "cell_type": "code",
   "execution_count": 1,
   "metadata": {},
   "outputs": [
    {
     "name": "stdout",
     "output_type": "stream",
     "text": [
      "Tom\n",
      "<class 'str'>\n"
     ]
    }
   ],
   "source": [
    "## string datatype example\n",
    "name=\"Tom\"\n",
    "print(name)\n",
    "print(type(name))"
   ]
  },
  {
   "cell_type": "code",
   "execution_count": 7,
   "metadata": {},
   "outputs": [
    {
     "data": {
      "text/plain": [
       "bool"
      ]
     },
     "execution_count": 7,
     "metadata": {},
     "output_type": "execute_result"
    }
   ],
   "source": [
    "## boolean datatype\n",
    "is_true=True\n",
    "type(is_true)"
   ]
  },
  {
   "cell_type": "code",
   "execution_count": 11,
   "metadata": {},
   "outputs": [
    {
     "data": {
      "text/plain": [
       "bool"
      ]
     },
     "execution_count": 11,
     "metadata": {},
     "output_type": "execute_result"
    }
   ],
   "source": [
    "a=10\n",
    "b=10\n",
    "\n",
    "type(a==b)\n"
   ]
  },
  {
   "cell_type": "code",
   "execution_count": null,
   "metadata": {},
   "outputs": [
    {
     "ename": "TypeError",
     "evalue": "can only concatenate str (not \"int\") to str",
     "output_type": "error",
     "traceback": [
      "\u001b[0;31m---------------------------------------------------------------------------\u001b[0m",
      "\u001b[0;31mTypeError\u001b[0m                                 Traceback (most recent call last)",
      "Cell \u001b[0;32mIn[2], line 3\u001b[0m\n\u001b[1;32m      1\u001b[0m \u001b[38;5;66;03m## common errors\u001b[39;00m\n\u001b[0;32m----> 3\u001b[0m result\u001b[38;5;241m=\u001b[39m\u001b[38;5;124;43m\"\u001b[39;49m\u001b[38;5;124;43mHello\u001b[39;49m\u001b[38;5;124;43m\"\u001b[39;49m\u001b[43m \u001b[49m\u001b[38;5;241;43m+\u001b[39;49m\u001b[43m \u001b[49m\u001b[38;5;241;43m5\u001b[39;49m\n",
      "\u001b[0;31mTypeError\u001b[0m: can only concatenate str (not \"int\") to str"
     ]
    }
   ],
   "source": [
    "## common errors\n",
    "\n",
    "result=\"Hello\" + 5\n",
    " \n",
    "# this error is due to that the datatypes are different"
   ]
  },
  {
   "cell_type": "code",
   "execution_count": 14,
   "metadata": {},
   "outputs": [
    {
     "name": "stdout",
     "output_type": "stream",
     "text": [
      "Hello5\n"
     ]
    }
   ],
   "source": [
    "result=\"Hello\" + str(5)\n",
    "print(result)"
   ]
  },
  {
   "cell_type": "markdown",
   "metadata": {},
   "source": [
    "### Summary \n",
    "# 1. Numeric Types\n",
    "\n",
    "## Integer\n",
    "x: int = 10\n",
    "large_int: int = 1_000_000  \n",
    "\n",
    "## Float\n",
    "y: float = 10.5\n",
    "scientific_notation: float = 3.14e-10\n",
    "\n",
    "# Complex\n",
    "z: complex = 3 + 4j  # Real + Imaginary parts\n",
    "\n",
    "# 2. Sequence Types\n",
    "\n",
    "## List\n",
    "my_list: list = [1, 2, 3, 4]\n",
    "mixed_list: list = [1, \"hello\", 3.14, True]\n",
    "\n",
    "## Tuple (immutable)\n",
    "my_tuple: tuple = (1, 2, 3)\n",
    "single_tuple: tuple = (1,)  # Note the comma\n",
    "\n",
    "## Range\n",
    "number_range: range = range(0, 10, 2)  # Start, Stop, Step\n",
    "\n",
    "# 3.Text Type\n",
    "\n",
    "\n",
    "name: str = \"Python\"\n",
    "\n",
    "multiline_str: str = \"\"\"\n",
    "Multiline\n",
    "String\n",
    "\"\"\"\n",
    "\n",
    "# 4.Mapping Type\n",
    "\n",
    "## Dictionary\n",
    "person: dict = {\n",
    "    \"name\": \"John\",\n",
    "    \"age\": 30,\n",
    "    \"city\": \"New York\"\n",
    "}\n",
    "\n",
    "## Typed Dictionary\n",
    "from typing import TypedDict\n",
    "\n",
    "class User(TypedDict):\n",
    "    name: str\n",
    "    age: int\n",
    "\n",
    "# 5. Set Types\n",
    "\n",
    "## Set (mutable, unordered)\n",
    "my_set: set = {1, 2, 3}\n",
    "unique_numbers: set = set([1, 2, 2, 3])  # This can remove duplicates\n",
    "\n",
    "## Frozen Set (immutable)\n",
    "frozen_set: frozenset = frozenset([1, 2, 3])\n",
    "\n",
    "# 6.Boolean Type\n",
    "\n",
    "is_true: bool = True\n",
    "is_false: bool = False\n",
    "\n",
    "# 7.Binary Types\n",
    "\n",
    "## Bytes\n",
    "byte_data: bytes = b'hello'\n",
    "\n",
    "## Bytearray (mutable)\n",
    "byte_array: bytearray = bytearray(b'hello')\n",
    "\n",
    "# 8. None Type\n",
    "\n",
    "## Represents absence of value\n",
    "nothing: None = None\n",
    "\n",
    "# 9. Advanced Types\n",
    "\n",
    "## Enum\n",
    "from enum import Enum, auto\n",
    "\n",
    "class Color(Enum):\n",
    "    RED = auto()\n",
    "    GREEN = auto()\n",
    "    BLUE = auto()\n",
    "\n",
    "## Named Tuple\n",
    "from typing import NamedTuple\n",
    "\n",
    "class Point(NamedTuple):\n",
    "    x: int\n",
    "    y: int\n",
    "\n",
    "# 10. Type Conversion\n",
    "\n",
    "## Converting between types\n",
    "int_to_float: float = float(10)\n",
    "str_to_int: int = int(\"10\")\n",
    "list_to_set: set = set([1, 2, 2, 3])\n",
    "\n",
    "# Type Checking\n",
    "\n",
    "## Type checking\n",
    "from typing import Union, List, Dict, Optional\n",
    "\n",
    "def process_input(value: Union[int, str]) -> str:\n",
    "    return str(value)\n",
    "\n",
    "def complex_function(\n",
    "    numbers: List[int], \n",
    "    config: Optional[Dict[str, Any]] = None\n",
    ") -> List[int]:\n",
    "    return numbers\n",
    "# Comprehensive Type Hierarchy:\n",
    "object\n",
    "├── NoneType\n",
    "├── Numbers\n",
    "│   ├── Integers\n",
    "│   ├── Floats\n",
    "│   └── Complex\n",
    "├── Sequences\n",
    "│   ├── Lists\n",
    "│   ├── Tuples\n",
    "│   └── Range\n",
    "├── Text\n",
    "│   └── Strings\n",
    "├── Mappings\n",
    "│   └── Dictionaries\n",
    "├── Sets\n",
    "│   ├── Set\n",
    "│   └── Frozenset\n",
    "└── Boolean\n",
    "\n",
    "\n",
    "# Type Checking Tools:\n",
    "## Check type\n",
    "print(type(10))  # int\n",
    "\n",
    "## Instance checking\n",
    "isinstance(10, int)  # True\n",
    "\n",
    "# Best Practices:\n",
    "\n",
    "Use type hints\n",
    "Prefer immutable types when possible\n",
    "Use appropriate type for the task\n",
    "Leverage typing module for complex types\n",
    "\n",
    "# Performance Considerations:\n",
    "\n",
    "Lists: Mutable, dynamic sizing\n",
    "Tuples: Immutable, faster\n",
    "Sets: Fast membership testing\n",
    "Dictionaries: Fast key-value lookups"
   ]
  }
 ],
 "metadata": {
  "kernelspec": {
   "display_name": "genai",
   "language": "python",
   "name": "python3"
  },
  "language_info": {
   "codemirror_mode": {
    "name": "ipython",
    "version": 3
   },
   "file_extension": ".py",
   "mimetype": "text/x-python",
   "name": "python",
   "nbconvert_exporter": "python",
   "pygments_lexer": "ipython3",
   "version": "3.8.19"
  }
 },
 "nbformat": 4,
 "nbformat_minor": 2
}
